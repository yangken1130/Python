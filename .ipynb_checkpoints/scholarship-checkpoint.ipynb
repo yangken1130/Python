{
 "cells": [
  {
   "cell_type": "code",
   "execution_count": 3,
   "metadata": {
    "collapsed": false
   },
   "outputs": [
    {
     "name": "stdout",
     "output_type": "stream",
     "text": [
      "95\n",
      "獎金 2000 元\n"
     ]
    }
   ],
   "source": [
    "a=eval(input())\n",
    "if a>=95:\n",
    "    print('獎金',2000,'元')\n",
    "elif a<95 and a>=90:\n",
    "    print('獎金',1000,'元')\n",
    "elif a<90 and a>=80:\n",
    "    print('獎金',500,'元')\n",
    "else:\n",
    "    print('獎金',0,'元')"
   ]
  },
  {
   "cell_type": "code",
   "execution_count": null,
   "metadata": {
    "collapsed": true
   },
   "outputs": [],
   "source": []
  }
 ],
 "metadata": {
  "kernelspec": {
   "display_name": "Python 3",
   "language": "python",
   "name": "python3"
  },
  "language_info": {
   "codemirror_mode": {
    "name": "ipython",
    "version": 3
   },
   "file_extension": ".py",
   "mimetype": "text/x-python",
   "name": "python",
   "nbconvert_exporter": "python",
   "pygments_lexer": "ipython3",
   "version": "3.6.0"
  }
 },
 "nbformat": 4,
 "nbformat_minor": 2
}
